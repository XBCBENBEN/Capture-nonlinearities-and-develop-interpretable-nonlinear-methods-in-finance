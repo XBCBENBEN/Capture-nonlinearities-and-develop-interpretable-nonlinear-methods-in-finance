{
 "cells": [
  {
   "cell_type": "code",
   "execution_count": 2,
   "metadata": {},
   "outputs": [],
   "source": [
    "import numpy as np\n",
    "import pandas as pd\n",
    "import matplotlib.pyplot as plt\n",
    "import seaborn as sns\n",
    "import statsmodels.api as sm\n",
    "from sklearn.linear_model import LinearRegression\n",
    "import matplotlib.pyplot as plt\n",
    "from scipy.stats.mstats import winsorize"
   ]
  },
  {
   "cell_type": "code",
   "execution_count": 3,
   "metadata": {},
   "outputs": [],
   "source": [
    "# Read data\n",
    "data_raw = pd.read_csv('./dataset_raw_v2.csv')\n",
    "weekly_equity_returns = pd.read_csv('./weekly_equity_returns.csv')"
   ]
  },
  {
   "cell_type": "code",
   "execution_count": 4,
   "metadata": {},
   "outputs": [],
   "source": [
    "# construct dataframe to store results\n",
    "Return_variable = pd.DataFrame()\n",
    "Return_variable['gvkey'] = data_raw['gvkey']\n",
    "Return_variable['fyear'] = data_raw['fyear']"
   ]
  },
  {
   "cell_type": "markdown",
   "metadata": {},
   "source": [
    "## Calculate the variables which only related to dataset data_raw"
   ]
  },
  {
   "cell_type": "markdown",
   "metadata": {},
   "source": [
    "### Calculate Log_scope_1"
   ]
  },
  {
   "cell_type": "code",
   "execution_count": 5,
   "metadata": {},
   "outputs": [],
   "source": [
    "# construct the dataframe to store Emission data\n",
    "Emission_table = pd.DataFrame()\n",
    "Emission_table['gvkey'] = data_raw['gvkey']\n",
    "Emission_table['fyear'] = data_raw['fyear']"
   ]
  },
  {
   "cell_type": "code",
   "execution_count": 6,
   "metadata": {},
   "outputs": [
    {
     "name": "stderr",
     "output_type": "stream",
     "text": [
      "c:\\Users\\13976\\.conda\\envs\\tf\\lib\\site-packages\\pandas\\core\\arraylike.py:402: RuntimeWarning: divide by zero encountered in log\n",
      "  result = getattr(ufunc, method)(*inputs, **kwargs)\n"
     ]
    }
   ],
   "source": [
    "Emission_table['log_scope_1'] = np.log(data_raw['Scope_1'])"
   ]
  },
  {
   "cell_type": "code",
   "execution_count": 7,
   "metadata": {},
   "outputs": [],
   "source": [
    "# Replace inf by using NaN\n",
    "Emission_table['log_scope_1'].replace(-float('inf'), np.nan, inplace=True)\n",
    "\n",
    "# Drop NaN\n",
    "Emission_table['log_scope_1'] = Emission_table['log_scope_1'].dropna()"
   ]
  },
  {
   "cell_type": "markdown",
   "metadata": {},
   "source": [
    "### Calculate Log_scope_2"
   ]
  },
  {
   "cell_type": "code",
   "execution_count": 8,
   "metadata": {},
   "outputs": [
    {
     "name": "stderr",
     "output_type": "stream",
     "text": [
      "c:\\Users\\13976\\.conda\\envs\\tf\\lib\\site-packages\\pandas\\core\\arraylike.py:402: RuntimeWarning: divide by zero encountered in log\n",
      "  result = getattr(ufunc, method)(*inputs, **kwargs)\n"
     ]
    }
   ],
   "source": [
    "Emission_table['log_scope_2'] = np.log(data_raw['Scope_2'])"
   ]
  },
  {
   "cell_type": "code",
   "execution_count": 9,
   "metadata": {},
   "outputs": [],
   "source": [
    "# Replace inf by using NaN\n",
    "Emission_table['log_scope_2'].replace(-float('inf'), np.nan, inplace=True)\n",
    "\n",
    "# Drop NaN\n",
    "Emission_table['log_scope_1'] = Emission_table['log_scope_1'].dropna()"
   ]
  },
  {
   "cell_type": "markdown",
   "metadata": {},
   "source": [
    "### Calculate Growth Rate in Carbon Emissions scope 1"
   ]
  },
  {
   "cell_type": "code",
   "execution_count": 10,
   "metadata": {},
   "outputs": [],
   "source": [
    "# Sort data by 'gvkey' and 'fyear'\n",
    "data_raw = data_raw.sort_values(by=['gvkey', 'fyear'])\n",
    "\n",
    "# Calculate growth rate for previous year\n",
    "data_raw['Growth Rate in Carbon Emissions Scope 1'] = data_raw.groupby('gvkey')['Scope_1'].pct_change()"
   ]
  },
  {
   "cell_type": "code",
   "execution_count": 11,
   "metadata": {},
   "outputs": [],
   "source": [
    "# Replace inf by using NaN\n",
    "growth_rates_scope_1 = data_raw[['gvkey', 'fyear', 'Growth Rate in Carbon Emissions Scope 1']].copy()\n",
    "growth_rates_scope_1['Growth Rate in Carbon Emissions Scope 1'].replace([np.inf, -np.inf], np.nan, inplace=True)\n",
    "\n",
    "# Drop NaN\n",
    "growth_rates_scope_1 = growth_rates_scope_1.dropna()\n",
    "\n",
    "# Winsorised the data in 2.5%\n",
    "winsorised_growth_rates_scope_1 = winsorize(growth_rates_scope_1['Growth Rate in Carbon Emissions Scope 1'], limits=[0.0125, 0.0125])\n",
    "\n",
    "# Add winsorised data\n",
    "growth_rates_scope_1['Winsorised Growth Rate in Carbon Emissions Scope 1'] = winsorised_growth_rates_scope_1"
   ]
  },
  {
   "cell_type": "code",
   "execution_count": 12,
   "metadata": {},
   "outputs": [],
   "source": [
    "# Merge winsorised data to emission table on 'gvkey' and 'fyear'\n",
    "Emission_table = Emission_table.merge(\n",
    "    growth_rates_scope_1[['gvkey', 'fyear', 'Winsorised Growth Rate in Carbon Emissions Scope 1']],\n",
    "    on=['gvkey', 'fyear'],\n",
    "    how='left'\n",
    ")"
   ]
  },
  {
   "cell_type": "markdown",
   "metadata": {},
   "source": [
    "### Calculate Growth Rate in Carbon Emissions scope 2"
   ]
  },
  {
   "cell_type": "code",
   "execution_count": 13,
   "metadata": {},
   "outputs": [],
   "source": [
    "# Sort data by 'gvkey' and 'fyear'\n",
    "data_raw = data_raw.sort_values(by=['gvkey', 'fyear'])\n",
    "\n",
    "# Calculate growth rate for previous year\n",
    "data_raw['Growth Rate in Carbon Emissions Scope 2'] = data_raw.groupby('gvkey')['Scope_2'].pct_change()"
   ]
  },
  {
   "cell_type": "code",
   "execution_count": 14,
   "metadata": {},
   "outputs": [],
   "source": [
    "# Replace inf by using NaN\n",
    "growth_rates_scope_2 = data_raw[['gvkey', 'fyear', 'Growth Rate in Carbon Emissions Scope 2']].copy()\n",
    "growth_rates_scope_2['Growth Rate in Carbon Emissions Scope 2'].replace([np.inf, -np.inf], np.nan, inplace=True)\n",
    "\n",
    "# Drop NaN\n",
    "growth_rates_scope_2 = growth_rates_scope_2.dropna()\n",
    "\n",
    "# Winsorised the data in 2.5%\n",
    "winsorised_growth_rates_scope_2 = winsorize(growth_rates_scope_2['Growth Rate in Carbon Emissions Scope 2'], limits=[0.0125, 0.0125])\n",
    "\n",
    "# Add winsorised data\n",
    "growth_rates_scope_2['Winsorised Growth Rate in Carbon Emissions Scope 2'] = winsorised_growth_rates_scope_2"
   ]
  },
  {
   "cell_type": "code",
   "execution_count": 15,
   "metadata": {},
   "outputs": [],
   "source": [
    "# Merge winsorised data to emission table on 'gvkey' and 'fyear'\n",
    "Emission_table = Emission_table.merge(\n",
    "    growth_rates_scope_2[['gvkey', 'fyear', 'Winsorised Growth Rate in Carbon Emissions Scope 2']],\n",
    "    on=['gvkey', 'fyear'],\n",
    "    how='left'\n",
    ")"
   ]
  },
  {
   "cell_type": "markdown",
   "metadata": {},
   "source": [
    "### Calculate Carbon Intensity Scope 1"
   ]
  },
  {
   "cell_type": "code",
   "execution_count": 16,
   "metadata": {},
   "outputs": [],
   "source": [
    "# Carbon intensity is calculated as the total revenue diveded by the total carbon emission quantity.\n",
    "Emission_table['Carbon Intensity Scope 1'] = data_raw['Scope_1'] / data_raw['revt'] / 100"
   ]
  },
  {
   "cell_type": "code",
   "execution_count": 17,
   "metadata": {},
   "outputs": [],
   "source": [
    "# Replace inf by using NaN\n",
    "Emission_table['Carbon Intensity Scope 1'].replace([np.inf, -np.inf], np.nan, inplace=True)\n",
    "\n",
    "# Winsorise the carbon intensity\n",
    "winsorised_carbon_intensity_scope1 = winsorize(Emission_table['Carbon Intensity Scope 1'].dropna(), limits=[0.0125, 0.0125])\n",
    "\n",
    "Emission_table.loc[Emission_table['Carbon Intensity Scope 1'].notna(), 'Winsorised Carbon Intensity Scope 1'] = winsorised_carbon_intensity_scope1"
   ]
  },
  {
   "cell_type": "markdown",
   "metadata": {},
   "source": [
    "### Calculate Carbon Intensity Scope 2"
   ]
  },
  {
   "cell_type": "code",
   "execution_count": 18,
   "metadata": {},
   "outputs": [],
   "source": [
    "# Carbon intensity is calculated as the total revenue diveded by the total carbon emission quantity.\n",
    "Emission_table['Carbon Intensity Scope 2'] = data_raw['Scope_2'] / data_raw['revt'] / 100"
   ]
  },
  {
   "cell_type": "code",
   "execution_count": 19,
   "metadata": {},
   "outputs": [],
   "source": [
    "# Replace inf by using NaN\n",
    "Emission_table['Carbon Intensity Scope 2'].replace([np.inf, -np.inf], np.nan, inplace=True)\n",
    "\n",
    "# Winsorise the carbon intensity\n",
    "winsorised_carbon_intensity_scope2 = winsorize(Emission_table['Carbon Intensity Scope 2'].dropna(), limits=[0.0125, 0.0125])\n",
    "\n",
    "Emission_table.loc[Emission_table['Carbon Intensity Scope 2'].notna(), 'Winsorised Carbon Intensity Scope 2'] = winsorised_carbon_intensity_scope2"
   ]
  },
  {
   "cell_type": "code",
   "execution_count": 20,
   "metadata": {},
   "outputs": [],
   "source": [
    "# Carbon intensity direct is generally equal to the carbon intensity scope 1, and carbon intensity indirect is the sum of the carbon intensity of scope 2 and\n",
    "# the carbon intensity of scope 3. However, we don't have the data related to scope 3, we cannot find out the carbon intensity indirect. Also, we cannot calculate\n",
    "# the GHG direct impact retio and GHG indirect impact ratio due to the lack of data about emission scope 3."
   ]
  },
  {
   "cell_type": "code",
   "execution_count": 21,
   "metadata": {},
   "outputs": [
    {
     "data": {
      "text/html": [
       "<div>\n",
       "<style scoped>\n",
       "    .dataframe tbody tr th:only-of-type {\n",
       "        vertical-align: middle;\n",
       "    }\n",
       "\n",
       "    .dataframe tbody tr th {\n",
       "        vertical-align: top;\n",
       "    }\n",
       "\n",
       "    .dataframe thead th {\n",
       "        text-align: right;\n",
       "    }\n",
       "</style>\n",
       "<table border=\"1\" class=\"dataframe\">\n",
       "  <thead>\n",
       "    <tr style=\"text-align: right;\">\n",
       "      <th></th>\n",
       "      <th>gvkey</th>\n",
       "      <th>fyear</th>\n",
       "      <th>log_scope_1</th>\n",
       "      <th>log_scope_2</th>\n",
       "      <th>Winsorised Growth Rate in Carbon Emissions Scope 1</th>\n",
       "      <th>Winsorised Growth Rate in Carbon Emissions Scope 2</th>\n",
       "      <th>Carbon Intensity Scope 1</th>\n",
       "      <th>Winsorised Carbon Intensity Scope 1</th>\n",
       "      <th>Carbon Intensity Scope 2</th>\n",
       "      <th>Winsorised Carbon Intensity Scope 2</th>\n",
       "    </tr>\n",
       "  </thead>\n",
       "  <tbody>\n",
       "    <tr>\n",
       "      <th>count</th>\n",
       "      <td>16347.000000</td>\n",
       "      <td>16347.000000</td>\n",
       "      <td>16340.000000</td>\n",
       "      <td>16342.000000</td>\n",
       "      <td>13721.000000</td>\n",
       "      <td>13721.000000</td>\n",
       "      <td>15999.000000</td>\n",
       "      <td>15999.000000</td>\n",
       "      <td>15999.000000</td>\n",
       "      <td>15999.000000</td>\n",
       "    </tr>\n",
       "    <tr>\n",
       "      <th>mean</th>\n",
       "      <td>55208.429375</td>\n",
       "      <td>2016.562794</td>\n",
       "      <td>9.910894</td>\n",
       "      <td>10.126252</td>\n",
       "      <td>0.069777</td>\n",
       "      <td>0.085642</td>\n",
       "      <td>1.676346</td>\n",
       "      <td>1.428081</td>\n",
       "      <td>0.364424</td>\n",
       "      <td>0.314744</td>\n",
       "    </tr>\n",
       "    <tr>\n",
       "      <th>std</th>\n",
       "      <td>64178.011324</td>\n",
       "      <td>2.857374</td>\n",
       "      <td>2.991095</td>\n",
       "      <td>2.483599</td>\n",
       "      <td>0.378345</td>\n",
       "      <td>0.392911</td>\n",
       "      <td>7.260993</td>\n",
       "      <td>5.138599</td>\n",
       "      <td>1.687184</td>\n",
       "      <td>0.427828</td>\n",
       "    </tr>\n",
       "    <tr>\n",
       "      <th>min</th>\n",
       "      <td>1004.000000</td>\n",
       "      <td>2010.000000</td>\n",
       "      <td>-1.645065</td>\n",
       "      <td>-0.079043</td>\n",
       "      <td>-0.766253</td>\n",
       "      <td>-0.676186</td>\n",
       "      <td>0.000000</td>\n",
       "      <td>0.002459</td>\n",
       "      <td>0.000000</td>\n",
       "      <td>0.006984</td>\n",
       "    </tr>\n",
       "    <tr>\n",
       "      <th>25%</th>\n",
       "      <td>9465.000000</td>\n",
       "      <td>2015.000000</td>\n",
       "      <td>7.901009</td>\n",
       "      <td>8.645540</td>\n",
       "      <td>-0.069214</td>\n",
       "      <td>-0.073421</td>\n",
       "      <td>0.035631</td>\n",
       "      <td>0.035631</td>\n",
       "      <td>0.073874</td>\n",
       "      <td>0.073874</td>\n",
       "    </tr>\n",
       "    <tr>\n",
       "      <th>50%</th>\n",
       "      <td>24216.000000</td>\n",
       "      <td>2017.000000</td>\n",
       "      <td>9.856206</td>\n",
       "      <td>10.326218</td>\n",
       "      <td>0.020804</td>\n",
       "      <td>0.022085</td>\n",
       "      <td>0.129947</td>\n",
       "      <td>0.129947</td>\n",
       "      <td>0.167862</td>\n",
       "      <td>0.167862</td>\n",
       "    </tr>\n",
       "    <tr>\n",
       "      <th>75%</th>\n",
       "      <td>66588.000000</td>\n",
       "      <td>2019.000000</td>\n",
       "      <td>11.699423</td>\n",
       "      <td>11.822373</td>\n",
       "      <td>0.131443</td>\n",
       "      <td>0.153653</td>\n",
       "      <td>0.293556</td>\n",
       "      <td>0.293556</td>\n",
       "      <td>0.401159</td>\n",
       "      <td>0.401159</td>\n",
       "    </tr>\n",
       "    <tr>\n",
       "      <th>max</th>\n",
       "      <td>328795.000000</td>\n",
       "      <td>2020.000000</td>\n",
       "      <td>18.804073</td>\n",
       "      <td>16.920606</td>\n",
       "      <td>2.102875</td>\n",
       "      <td>2.270040</td>\n",
       "      <td>196.809468</td>\n",
       "      <td>34.648542</td>\n",
       "      <td>141.591432</td>\n",
       "      <td>2.519237</td>\n",
       "    </tr>\n",
       "  </tbody>\n",
       "</table>\n",
       "</div>"
      ],
      "text/plain": [
       "               gvkey         fyear   log_scope_1   log_scope_2  \\\n",
       "count   16347.000000  16347.000000  16340.000000  16342.000000   \n",
       "mean    55208.429375   2016.562794      9.910894     10.126252   \n",
       "std     64178.011324      2.857374      2.991095      2.483599   \n",
       "min      1004.000000   2010.000000     -1.645065     -0.079043   \n",
       "25%      9465.000000   2015.000000      7.901009      8.645540   \n",
       "50%     24216.000000   2017.000000      9.856206     10.326218   \n",
       "75%     66588.000000   2019.000000     11.699423     11.822373   \n",
       "max    328795.000000   2020.000000     18.804073     16.920606   \n",
       "\n",
       "       Winsorised Growth Rate in Carbon Emissions Scope 1  \\\n",
       "count                                       13721.000000    \n",
       "mean                                            0.069777    \n",
       "std                                             0.378345    \n",
       "min                                            -0.766253    \n",
       "25%                                            -0.069214    \n",
       "50%                                             0.020804    \n",
       "75%                                             0.131443    \n",
       "max                                             2.102875    \n",
       "\n",
       "       Winsorised Growth Rate in Carbon Emissions Scope 2  \\\n",
       "count                                       13721.000000    \n",
       "mean                                            0.085642    \n",
       "std                                             0.392911    \n",
       "min                                            -0.676186    \n",
       "25%                                            -0.073421    \n",
       "50%                                             0.022085    \n",
       "75%                                             0.153653    \n",
       "max                                             2.270040    \n",
       "\n",
       "       Carbon Intensity Scope 1  Winsorised Carbon Intensity Scope 1  \\\n",
       "count              15999.000000                         15999.000000   \n",
       "mean                   1.676346                             1.428081   \n",
       "std                    7.260993                             5.138599   \n",
       "min                    0.000000                             0.002459   \n",
       "25%                    0.035631                             0.035631   \n",
       "50%                    0.129947                             0.129947   \n",
       "75%                    0.293556                             0.293556   \n",
       "max                  196.809468                            34.648542   \n",
       "\n",
       "       Carbon Intensity Scope 2  Winsorised Carbon Intensity Scope 2  \n",
       "count              15999.000000                         15999.000000  \n",
       "mean                   0.364424                             0.314744  \n",
       "std                    1.687184                             0.427828  \n",
       "min                    0.000000                             0.006984  \n",
       "25%                    0.073874                             0.073874  \n",
       "50%                    0.167862                             0.167862  \n",
       "75%                    0.401159                             0.401159  \n",
       "max                  141.591432                             2.519237  "
      ]
     },
     "execution_count": 21,
     "metadata": {},
     "output_type": "execute_result"
    }
   ],
   "source": [
    "Emission_table.describe()"
   ]
  },
  {
   "cell_type": "markdown",
   "metadata": {},
   "source": [
    "### Calculate LOGSIZE"
   ]
  },
  {
   "cell_type": "code",
   "execution_count": 22,
   "metadata": {},
   "outputs": [],
   "source": [
    "# mkvalt is the market capitablization\n",
    "Return_variable['LOGSIZE'] = np.log(data_raw['mkvalt'])\n",
    "\n",
    "# Replace inf by using NaN\n",
    "Return_variable['LOGSIZE'].replace([np.inf, -np.inf], np.nan, inplace=True)"
   ]
  },
  {
   "cell_type": "markdown",
   "metadata": {},
   "source": [
    "### Calculate B/M"
   ]
  },
  {
   "cell_type": "code",
   "execution_count": 23,
   "metadata": {},
   "outputs": [],
   "source": [
    "# B/M is the book value of equity divided by market value of equity. Book value of equity is total asset minus total liabilities.\n",
    "# It is clear that at is total asset and lt is liabilities.\n",
    "Return_variable['B/M'] = (data_raw['at'] - data_raw['lt']) / data_raw['mkvalt']\n",
    "\n",
    "# Replace inf by using NaN\n",
    "Return_variable['B/M'].replace([np.inf, -np.inf], np.nan, inplace=True)\n",
    "\n",
    "# Winsorise the B/M\n",
    "winsorised_BM = winsorize(Return_variable['B/M'].dropna(), limits=[0.0125, 0.0125])\n",
    "Return_variable.loc[Return_variable['B/M'].notna(), 'Winsorised BM'] = winsorised_BM"
   ]
  },
  {
   "cell_type": "markdown",
   "metadata": {},
   "source": [
    "### Calculate Leverage"
   ]
  },
  {
   "cell_type": "code",
   "execution_count": 24,
   "metadata": {},
   "outputs": [],
   "source": [
    "# Leverage is the bool value of leverage defined as the book value of debt divided by the book value of assets.\n",
    "Return_variable['Leverage'] = ( data_raw['dlc'] + data_raw['dltt'] )/ data_raw['at']\n",
    "\n",
    "# Replace inf by using NaN\n",
    "Return_variable['Leverage'].replace([np.inf, -np.inf], np.nan, inplace=True)\n",
    "\n",
    "# Winsorise the Leverage\n",
    "winsorised_Leverge = winsorize(Return_variable['Leverage'].dropna(), limits=[0.0125, 0.0125])\n",
    "Return_variable.loc[Return_variable['Leverage'].notna(), 'Winsorised Leverage'] = winsorised_Leverge"
   ]
  },
  {
   "cell_type": "markdown",
   "metadata": {},
   "source": [
    "### Calcualte INVEST/A"
   ]
  },
  {
   "cell_type": "code",
   "execution_count": 25,
   "metadata": {},
   "outputs": [],
   "source": [
    "# INVEST/A is the CAPEX divided by book value of assets, where CAPEX is the capital expenditure.\n",
    "Return_variable['INVEST/A'] = data_raw['capx'] / data_raw['at']\n",
    "\n",
    "# Replace inf by using NaN\n",
    "Return_variable['INVEST/A'].replace([np.inf, -np.inf], np.nan, inplace=True)\n",
    "\n",
    "# Winsorise the INVEST/A\n",
    "winsorised_InvestA = winsorize(Return_variable['INVEST/A'].dropna(), limits=[0.0125, 0.0125])\n",
    "Return_variable.loc[Return_variable['INVEST/A'].notna(), 'Winsorised INVESTA'] = winsorised_InvestA"
   ]
  },
  {
   "cell_type": "markdown",
   "metadata": {},
   "source": [
    "### Calculate ROE"
   ]
  },
  {
   "cell_type": "code",
   "execution_count": 26,
   "metadata": {},
   "outputs": [],
   "source": [
    "# ROE is return of equity, which is calculated by net earning divides the stockholders' equity.\n",
    "Return_variable['ROE'] = (data_raw['ni'] / data_raw['ceq']) * 100\n",
    "\n",
    "# Replace inf by using NaN\n",
    "Return_variable['ROE'].replace([np.inf, -np.inf], np.nan, inplace=True)\n",
    "\n",
    "# Winsorise the ROE\n",
    "winsorised_ROE = winsorize(Return_variable['ROE'].dropna(), limits=[0.0125, 0.0125])\n",
    "Return_variable.loc[Return_variable['ROE'].notna(), 'Winsorised ROE'] = winsorised_ROE"
   ]
  },
  {
   "cell_type": "markdown",
   "metadata": {},
   "source": [
    "### Calculate LOGPPE"
   ]
  },
  {
   "cell_type": "code",
   "execution_count": 27,
   "metadata": {},
   "outputs": [
    {
     "name": "stderr",
     "output_type": "stream",
     "text": [
      "c:\\Users\\13976\\.conda\\envs\\tf\\lib\\site-packages\\pandas\\core\\arraylike.py:402: RuntimeWarning: divide by zero encountered in log\n",
      "  result = getattr(ufunc, method)(*inputs, **kwargs)\n"
     ]
    }
   ],
   "source": [
    "# LOGPPE is the natural logarithm of plant, property & equipment (in $ million).\n",
    "Return_variable['LOGPPE'] = np.log(data_raw['ppegt'])\n",
    "\n",
    "# Replace inf by using NaN\n",
    "Return_variable['LOGPPE'].replace([np.inf, -np.inf], np.nan, inplace=True)"
   ]
  },
  {
   "cell_type": "markdown",
   "metadata": {},
   "source": [
    "### Calculate SALESGR"
   ]
  },
  {
   "cell_type": "code",
   "execution_count": 28,
   "metadata": {},
   "outputs": [],
   "source": [
    "# Sort by using gvkey and fyear\n",
    "data_raw = data_raw.sort_values(by=['gvkey', 'fyear'])\n",
    "\n",
    "# Calculate the growth rate\n",
    "data_raw['SALESGR'] = data_raw.groupby('gvkey')['sale'].pct_change()\n",
    "SALESGR1 = data_raw[['gvkey', 'fyear', 'SALESGR']].copy()\n",
    "\n",
    "# Replace inf by using NaN\n",
    "SALESGR1.replace([np.inf, -np.inf], np.nan, inplace=True)\n",
    "\n",
    "# Drop NaN\n",
    "SALESGR1.dropna()\n",
    "\n",
    "# Winsorised the data in 2.5%\n",
    "winsorised_SALESGR = winsorize(SALESGR1['SALESGR'], limits=[0.0025, 0.0025])\n",
    "\n",
    "# Add winsorised data\n",
    "SALESGR1['Winsorised SALESGR'] = winsorised_SALESGR"
   ]
  },
  {
   "cell_type": "code",
   "execution_count": 29,
   "metadata": {},
   "outputs": [],
   "source": [
    "# merge winsorised data to emission table on 'gvkey' and 'fyear'\n",
    "Return_variable = Return_variable.merge(\n",
    "    SALESGR1[['gvkey', 'fyear', 'Winsorised SALESGR']],\n",
    "    on=['gvkey', 'fyear'],\n",
    "    how='left'\n",
    ")"
   ]
  },
  {
   "cell_type": "code",
   "execution_count": 30,
   "metadata": {},
   "outputs": [
    {
     "data": {
      "text/html": [
       "<div>\n",
       "<style scoped>\n",
       "    .dataframe tbody tr th:only-of-type {\n",
       "        vertical-align: middle;\n",
       "    }\n",
       "\n",
       "    .dataframe tbody tr th {\n",
       "        vertical-align: top;\n",
       "    }\n",
       "\n",
       "    .dataframe thead th {\n",
       "        text-align: right;\n",
       "    }\n",
       "</style>\n",
       "<table border=\"1\" class=\"dataframe\">\n",
       "  <thead>\n",
       "    <tr style=\"text-align: right;\">\n",
       "      <th></th>\n",
       "      <th>gvkey</th>\n",
       "      <th>fyear</th>\n",
       "      <th>LOGSIZE</th>\n",
       "      <th>B/M</th>\n",
       "      <th>Winsorised BM</th>\n",
       "      <th>Leverage</th>\n",
       "      <th>Winsorised Leverage</th>\n",
       "      <th>INVEST/A</th>\n",
       "      <th>Winsorised INVESTA</th>\n",
       "      <th>ROE</th>\n",
       "      <th>Winsorised ROE</th>\n",
       "      <th>LOGPPE</th>\n",
       "      <th>Winsorised SALESGR</th>\n",
       "    </tr>\n",
       "  </thead>\n",
       "  <tbody>\n",
       "    <tr>\n",
       "      <th>count</th>\n",
       "      <td>16131.000000</td>\n",
       "      <td>16131.000000</td>\n",
       "      <td>15337.000000</td>\n",
       "      <td>15312.000000</td>\n",
       "      <td>15312.000000</td>\n",
       "      <td>16078.000000</td>\n",
       "      <td>16078.000000</td>\n",
       "      <td>16083.000000</td>\n",
       "      <td>16083.000000</td>\n",
       "      <td>16115.000000</td>\n",
       "      <td>16115.000000</td>\n",
       "      <td>13526.000000</td>\n",
       "      <td>13494.000000</td>\n",
       "    </tr>\n",
       "    <tr>\n",
       "      <th>mean</th>\n",
       "      <td>55550.154051</td>\n",
       "      <td>2016.565495</td>\n",
       "      <td>8.014688</td>\n",
       "      <td>0.530916</td>\n",
       "      <td>0.522397</td>\n",
       "      <td>0.281535</td>\n",
       "      <td>0.277260</td>\n",
       "      <td>0.034227</td>\n",
       "      <td>0.033341</td>\n",
       "      <td>11.378577</td>\n",
       "      <td>6.274868</td>\n",
       "      <td>6.760148</td>\n",
       "      <td>0.113642</td>\n",
       "    </tr>\n",
       "    <tr>\n",
       "      <th>std</th>\n",
       "      <td>64313.238997</td>\n",
       "      <td>2.859595</td>\n",
       "      <td>1.792287</td>\n",
       "      <td>0.751260</td>\n",
       "      <td>0.445978</td>\n",
       "      <td>0.238564</td>\n",
       "      <td>0.215525</td>\n",
       "      <td>0.044607</td>\n",
       "      <td>0.039312</td>\n",
       "      <td>525.150468</td>\n",
       "      <td>46.942138</td>\n",
       "      <td>2.240567</td>\n",
       "      <td>2.047087</td>\n",
       "    </tr>\n",
       "    <tr>\n",
       "      <th>min</th>\n",
       "      <td>1004.000000</td>\n",
       "      <td>2010.000000</td>\n",
       "      <td>0.364087</td>\n",
       "      <td>-24.427128</td>\n",
       "      <td>-0.218942</td>\n",
       "      <td>0.000000</td>\n",
       "      <td>0.000000</td>\n",
       "      <td>-0.185768</td>\n",
       "      <td>0.000000</td>\n",
       "      <td>-10404.347826</td>\n",
       "      <td>-240.205070</td>\n",
       "      <td>-2.465104</td>\n",
       "      <td>-0.749541</td>\n",
       "    </tr>\n",
       "    <tr>\n",
       "      <th>25%</th>\n",
       "      <td>9667.000000</td>\n",
       "      <td>2015.000000</td>\n",
       "      <td>6.759701</td>\n",
       "      <td>0.219071</td>\n",
       "      <td>0.219071</td>\n",
       "      <td>0.093193</td>\n",
       "      <td>0.093193</td>\n",
       "      <td>0.005686</td>\n",
       "      <td>0.005686</td>\n",
       "      <td>2.271908</td>\n",
       "      <td>2.271908</td>\n",
       "      <td>5.357308</td>\n",
       "      <td>-0.017796</td>\n",
       "    </tr>\n",
       "    <tr>\n",
       "      <th>50%</th>\n",
       "      <td>24344.000000</td>\n",
       "      <td>2017.000000</td>\n",
       "      <td>8.033157</td>\n",
       "      <td>0.419836</td>\n",
       "      <td>0.419836</td>\n",
       "      <td>0.253021</td>\n",
       "      <td>0.253021</td>\n",
       "      <td>0.021055</td>\n",
       "      <td>0.021055</td>\n",
       "      <td>9.641666</td>\n",
       "      <td>9.641666</td>\n",
       "      <td>6.836329</td>\n",
       "      <td>0.051554</td>\n",
       "    </tr>\n",
       "    <tr>\n",
       "      <th>75%</th>\n",
       "      <td>66708.000000</td>\n",
       "      <td>2019.000000</td>\n",
       "      <td>9.207703</td>\n",
       "      <td>0.714851</td>\n",
       "      <td>0.714851</td>\n",
       "      <td>0.412144</td>\n",
       "      <td>0.412144</td>\n",
       "      <td>0.045433</td>\n",
       "      <td>0.045433</td>\n",
       "      <td>17.534242</td>\n",
       "      <td>17.534242</td>\n",
       "      <td>8.236327</td>\n",
       "      <td>0.136167</td>\n",
       "    </tr>\n",
       "    <tr>\n",
       "      <th>max</th>\n",
       "      <td>328795.000000</td>\n",
       "      <td>2020.000000</td>\n",
       "      <td>14.491552</td>\n",
       "      <td>30.468414</td>\n",
       "      <td>2.344154</td>\n",
       "      <td>4.942947</td>\n",
       "      <td>0.904107</td>\n",
       "      <td>0.605523</td>\n",
       "      <td>0.203190</td>\n",
       "      <td>38870.000000</td>\n",
       "      <td>186.515669</td>\n",
       "      <td>13.144907</td>\n",
       "      <td>225.869455</td>\n",
       "    </tr>\n",
       "  </tbody>\n",
       "</table>\n",
       "</div>"
      ],
      "text/plain": [
       "               gvkey         fyear       LOGSIZE           B/M  Winsorised BM  \\\n",
       "count   16131.000000  16131.000000  15337.000000  15312.000000   15312.000000   \n",
       "mean    55550.154051   2016.565495      8.014688      0.530916       0.522397   \n",
       "std     64313.238997      2.859595      1.792287      0.751260       0.445978   \n",
       "min      1004.000000   2010.000000      0.364087    -24.427128      -0.218942   \n",
       "25%      9667.000000   2015.000000      6.759701      0.219071       0.219071   \n",
       "50%     24344.000000   2017.000000      8.033157      0.419836       0.419836   \n",
       "75%     66708.000000   2019.000000      9.207703      0.714851       0.714851   \n",
       "max    328795.000000   2020.000000     14.491552     30.468414       2.344154   \n",
       "\n",
       "           Leverage  Winsorised Leverage      INVEST/A  Winsorised INVESTA  \\\n",
       "count  16078.000000         16078.000000  16083.000000        16083.000000   \n",
       "mean       0.281535             0.277260      0.034227            0.033341   \n",
       "std        0.238564             0.215525      0.044607            0.039312   \n",
       "min        0.000000             0.000000     -0.185768            0.000000   \n",
       "25%        0.093193             0.093193      0.005686            0.005686   \n",
       "50%        0.253021             0.253021      0.021055            0.021055   \n",
       "75%        0.412144             0.412144      0.045433            0.045433   \n",
       "max        4.942947             0.904107      0.605523            0.203190   \n",
       "\n",
       "                ROE  Winsorised ROE        LOGPPE  Winsorised SALESGR  \n",
       "count  16115.000000    16115.000000  13526.000000        13494.000000  \n",
       "mean      11.378577        6.274868      6.760148            0.113642  \n",
       "std      525.150468       46.942138      2.240567            2.047087  \n",
       "min   -10404.347826     -240.205070     -2.465104           -0.749541  \n",
       "25%        2.271908        2.271908      5.357308           -0.017796  \n",
       "50%        9.641666        9.641666      6.836329            0.051554  \n",
       "75%       17.534242       17.534242      8.236327            0.136167  \n",
       "max    38870.000000      186.515669     13.144907          225.869455  "
      ]
     },
     "execution_count": 30,
     "metadata": {},
     "output_type": "execute_result"
    }
   ],
   "source": [
    "Return_variable.describe()"
   ]
  },
  {
   "cell_type": "markdown",
   "metadata": {},
   "source": [
    "### Calculate variables which use weekly_equity_return"
   ]
  },
  {
   "cell_type": "code",
   "execution_count": 31,
   "metadata": {},
   "outputs": [],
   "source": [
    "data_raw = pd.read_csv('./dataset_raw_v2.csv')\n",
    "weekly_equity_returns = pd.read_csv('./weekly_equity_returns.csv')\n",
    "total_return_weekly = pd.read_csv('./total_returns_weekly.csv')"
   ]
  },
  {
   "cell_type": "code",
   "execution_count": 32,
   "metadata": {},
   "outputs": [],
   "source": [
    "weekly_equity_returns_new = pd.merge(weekly_equity_returns, total_return_weekly[['Date', 'Total Return', 'GICS Sector Name', 'Company Common Name', 'gvkey', 'eow']], on=['gvkey', 'eow'], how='left')"
   ]
  },
  {
   "cell_type": "code",
   "execution_count": 33,
   "metadata": {},
   "outputs": [
    {
     "data": {
      "text/plain": [
       "Index(['Unnamed: 0.1', 'Unnamed: 0', 'eow', 'Instrument', 'Close_Price',\n",
       "       'Bid_Price', 'Ask_Price', 'Volume', 'Company_Market_Cap', 'CF_CURR',\n",
       "       'GICS_Sector_Name', 'Company_Common_Name', 'gvkey', 'mrg', 'X_USD',\n",
       "       'Date', 'Total Return', 'GICS Sector Name', 'Company Common Name'],\n",
       "      dtype='object')"
      ]
     },
     "execution_count": 33,
     "metadata": {},
     "output_type": "execute_result"
    }
   ],
   "source": [
    "weekly_equity_returns_new.columns"
   ]
  },
  {
   "cell_type": "code",
   "execution_count": 34,
   "metadata": {},
   "outputs": [
    {
     "name": "stderr",
     "output_type": "stream",
     "text": [
      "C:\\Users\\13976\\AppData\\Local\\Temp\\ipykernel_29928\\51203113.py:8: SettingWithCopyWarning: \n",
      "A value is trying to be set on a copy of a slice from a DataFrame.\n",
      "Try using .loc[row_indexer,col_indexer] = value instead\n",
      "\n",
      "See the caveats in the documentation: https://pandas.pydata.org/pandas-docs/stable/user_guide/indexing.html#returning-a-view-versus-a-copy\n",
      "  weekly_equity_returns_filtered['eow'] = pd.to_datetime(weekly_equity_returns_filtered['eow'])\n",
      "C:\\Users\\13976\\AppData\\Local\\Temp\\ipykernel_29928\\51203113.py:9: SettingWithCopyWarning: \n",
      "A value is trying to be set on a copy of a slice from a DataFrame.\n",
      "Try using .loc[row_indexer,col_indexer] = value instead\n",
      "\n",
      "See the caveats in the documentation: https://pandas.pydata.org/pandas-docs/stable/user_guide/indexing.html#returning-a-view-versus-a-copy\n",
      "  weekly_equity_returns_filtered['mom_eow'] = pd.to_datetime(weekly_equity_returns_filtered['eow']).copy()\n"
     ]
    }
   ],
   "source": [
    "# get gvkey in data_raw\n",
    "companies_with_emission_data = data_raw['gvkey'].unique()\n",
    "\n",
    "# get gvkey in weekly equity returns\n",
    "weekly_equity_returns_filtered = weekly_equity_returns_new[weekly_equity_returns_new['gvkey'].isin(companies_with_emission_data)]\n",
    "weekly_equity_returns_filtered.sort_values(by = ['gvkey', 'eow'])\n",
    "\n",
    "weekly_equity_returns_filtered['eow'] = pd.to_datetime(weekly_equity_returns_filtered['eow'])\n",
    "weekly_equity_returns_filtered['mom_eow'] = pd.to_datetime(weekly_equity_returns_filtered['eow']).copy()\n",
    "weekly_equity_returns_filtered.set_index('eow', inplace=True)"
   ]
  },
  {
   "cell_type": "markdown",
   "metadata": {},
   "source": [
    "### Calculate RET%"
   ]
  },
  {
   "cell_type": "code",
   "execution_count": 35,
   "metadata": {},
   "outputs": [],
   "source": [
    "# Resample the data by month and get the data of last day in every month\n",
    "monthly_data = weekly_equity_returns_filtered.resample('M').last()\n",
    "Return_variable_RET = monthly_data[['gvkey']].copy()"
   ]
  },
  {
   "cell_type": "code",
   "execution_count": 36,
   "metadata": {},
   "outputs": [],
   "source": [
    "# Group by 'gvkey' and 'eow' and calculate the closing price on the last day of the month\n",
    "monthly_last_price = weekly_equity_returns_filtered.groupby(['gvkey', pd.Grouper(freq='M')])['Close_Price'].last()\n",
    "\n",
    "# Calculate monthly return\n",
    "monthly_return = monthly_last_price.groupby(level=0).pct_change()\n",
    "\n",
    "# Reset index to get 'gvkey' and 'eow'\n",
    "monthly_return = monthly_return.reset_index()\n",
    "\n",
    "# Transform 'eow' to month type\n",
    "monthly_return['month'] = monthly_return['eow'].dt.to_period('M')\n",
    "\n",
    "# Rename 'Close_Price' as 'RET'\n",
    "monthly_return.rename(columns={'Close_Price': 'RET'}, inplace=True)\n",
    "monthly_return.dropna(inplace=True)\n",
    "\n",
    "# Calculate the number of rows should be replaced\n",
    "num_rows_to_replace1 = int(len(monthly_return) * 0.0025)\n",
    "num_rows_to_replace2 = int(len(monthly_return) * 0.0025)\n",
    "\n",
    "# Sort and replace the extreme values\n",
    "monthly_return_sorted = monthly_return.sort_values(by='RET', ascending=True)\n",
    "if num_rows_to_replace1 > 0 and num_rows_to_replace2 > 0:\n",
    "    monthly_return_sorted.iloc[:num_rows_to_replace2, monthly_return_sorted.columns.get_loc('RET')] = np.nan\n",
    "    monthly_return_sorted.iloc[-num_rows_to_replace1:, monthly_return_sorted.columns.get_loc('RET')] = np.nan\n",
    "\n",
    "# Create new dataframe\n",
    "Return_variable_RET = monthly_return_sorted.copy()\n",
    "\n",
    "# Drop NaN\n",
    "Return_variable_RET.dropna(subset=['RET'], inplace=True)\n",
    "Return_variable_RET['RET%'] = Return_variable_RET['RET'] * 100"
   ]
  },
  {
   "cell_type": "markdown",
   "metadata": {},
   "source": [
    "### Calculate MOM"
   ]
  },
  {
   "cell_type": "code",
   "execution_count": 37,
   "metadata": {},
   "outputs": [],
   "source": [
    "Return_variable_MOM = pd.DataFrame(weekly_equity_returns_filtered['gvkey'])"
   ]
  },
  {
   "cell_type": "code",
   "execution_count": 38,
   "metadata": {},
   "outputs": [
    {
     "name": "stderr",
     "output_type": "stream",
     "text": [
      "C:\\Users\\13976\\AppData\\Local\\Temp\\ipykernel_29928\\669015328.py:2: SettingWithCopyWarning: \n",
      "A value is trying to be set on a copy of a slice from a DataFrame.\n",
      "Try using .loc[row_indexer,col_indexer] = value instead\n",
      "\n",
      "See the caveats in the documentation: https://pandas.pydata.org/pandas-docs/stable/user_guide/indexing.html#returning-a-view-versus-a-copy\n",
      "  weekly_equity_returns_filtered['mom_eow'] = pd.to_datetime(weekly_equity_returns_filtered['mom_eow'])\n",
      "C:\\Users\\13976\\AppData\\Local\\Temp\\ipykernel_29928\\669015328.py:3: SettingWithCopyWarning: \n",
      "A value is trying to be set on a copy of a slice from a DataFrame.\n",
      "Try using .loc[row_indexer,col_indexer] = value instead\n",
      "\n",
      "See the caveats in the documentation: https://pandas.pydata.org/pandas-docs/stable/user_guide/indexing.html#returning-a-view-versus-a-copy\n",
      "  weekly_equity_returns_filtered['fyear'] = weekly_equity_returns_filtered['mom_eow'].dt.year\n",
      "C:\\Users\\13976\\AppData\\Local\\Temp\\ipykernel_29928\\669015328.py:4: SettingWithCopyWarning: \n",
      "A value is trying to be set on a copy of a slice from a DataFrame.\n",
      "Try using .loc[row_indexer,col_indexer] = value instead\n",
      "\n",
      "See the caveats in the documentation: https://pandas.pydata.org/pandas-docs/stable/user_guide/indexing.html#returning-a-view-versus-a-copy\n",
      "  weekly_equity_returns_filtered['month'] = weekly_equity_returns_filtered['mom_eow'].dt.month\n"
     ]
    }
   ],
   "source": [
    "# Transform 'eow' to datetime and add year, month as columns\n",
    "weekly_equity_returns_filtered['mom_eow'] = pd.to_datetime(weekly_equity_returns_filtered['mom_eow'])\n",
    "weekly_equity_returns_filtered['fyear'] = weekly_equity_returns_filtered['mom_eow'].dt.year\n",
    "weekly_equity_returns_filtered['month'] = weekly_equity_returns_filtered['mom_eow'].dt.month\n",
    "\n",
    "# Calculate the close price of every company in month\n",
    "monthly_prices = weekly_equity_returns_filtered.groupby(['gvkey', 'fyear', 'month'])['Close_Price'].last().reset_index()\n",
    "\n",
    "# Sort\n",
    "monthly_prices.sort_values(by=['gvkey', 'fyear', 'month'], inplace=True)\n",
    "\n",
    "# Construct yearly window\n",
    "monthly_prices['Close_Price_1y_ago'] = monthly_prices.groupby('gvkey')['Close_Price'].shift(12)\n",
    "\n",
    "# Calculate MOM\n",
    "monthly_prices['MOM'] = monthly_prices['Close_Price'] / monthly_prices['Close_Price_1y_ago'] - 1\n",
    "\n",
    "# Renew Return_variable DataFrame\n",
    "Return_variable_MOM = monthly_prices[['gvkey', 'fyear', 'month', 'MOM']]"
   ]
  },
  {
   "cell_type": "code",
   "execution_count": 39,
   "metadata": {},
   "outputs": [],
   "source": [
    "# Drop NaN\n",
    "MOM1 = Return_variable_MOM[['gvkey', 'fyear','month', 'MOM']].dropna()\n",
    "\n",
    "# Winsorised the data in 2.5%\n",
    "winsorised_MOM = winsorize(MOM1['MOM'], limits=[0.0025, 0.0025])\n",
    "\n",
    "# Add winsorised data\n",
    "MOM1['Winsorised MOM'] = winsorised_MOM"
   ]
  },
  {
   "cell_type": "code",
   "execution_count": 40,
   "metadata": {},
   "outputs": [],
   "source": [
    "# Merge winsorised data to emission table on 'gvkey' and 'fyear'\n",
    "Return_variable_MOM = Return_variable_MOM.merge(\n",
    "    MOM1[['gvkey', 'fyear', 'month', 'Winsorised MOM']],\n",
    "    on=['gvkey', 'fyear', 'month'],\n",
    "    how='left'\n",
    ")"
   ]
  },
  {
   "cell_type": "code",
   "execution_count": 41,
   "metadata": {},
   "outputs": [],
   "source": [
    "Return_variable_MOM['MOM_duplicate'] = Return_variable_MOM['Winsorised MOM'].drop_duplicates()"
   ]
  },
  {
   "cell_type": "markdown",
   "metadata": {},
   "source": [
    "### Calculate Beta"
   ]
  },
  {
   "cell_type": "code",
   "execution_count": 42,
   "metadata": {},
   "outputs": [],
   "source": [
    "betas = pd.read_csv('./betas.csv')"
   ]
  },
  {
   "cell_type": "markdown",
   "metadata": {},
   "source": [
    "### Calculate Voltility"
   ]
  },
  {
   "cell_type": "code",
   "execution_count": 43,
   "metadata": {},
   "outputs": [],
   "source": [
    "weekly_equity_returns_filtered.reset_index()\n",
    "\n",
    "# Calculate the monthly return\n",
    "monthly_returns = weekly_equity_returns_filtered.groupby('gvkey').resample('M')['Close_Price'].last().pct_change()\n",
    "\n",
    "# Reset index to get 'eow' and 'gvkey'\n",
    "monthly_returns = monthly_returns.reset_index()"
   ]
  },
  {
   "cell_type": "code",
   "execution_count": 44,
   "metadata": {},
   "outputs": [],
   "source": [
    "volat = pd.DataFrame({\n",
    "    'gvkey': weekly_equity_returns_filtered['gvkey'],\n",
    "    'mom_eow': weekly_equity_returns_filtered['mom_eow']\n",
    "})\n",
    "volat = volat.reset_index()"
   ]
  },
  {
   "cell_type": "code",
   "execution_count": 45,
   "metadata": {},
   "outputs": [],
   "source": [
    "monthly_volat = monthly_returns.groupby('gvkey').apply(lambda x: x.set_index('eow')['Close_Price'].rolling(window=12).std())"
   ]
  },
  {
   "cell_type": "code",
   "execution_count": 46,
   "metadata": {},
   "outputs": [],
   "source": [
    "volat = volat.join(monthly_volat, on=['gvkey', 'eow'], rsuffix='_volat')\n",
    "volat.rename(columns={'Close_Price': 'VOLAT'}, inplace=True)"
   ]
  },
  {
   "cell_type": "code",
   "execution_count": 47,
   "metadata": {},
   "outputs": [],
   "source": [
    "volat_unique = volat.drop_duplicates()"
   ]
  },
  {
   "cell_type": "code",
   "execution_count": 48,
   "metadata": {},
   "outputs": [
    {
     "name": "stderr",
     "output_type": "stream",
     "text": [
      "C:\\Users\\13976\\AppData\\Local\\Temp\\ipykernel_29928\\1945059889.py:2: SettingWithCopyWarning: \n",
      "A value is trying to be set on a copy of a slice from a DataFrame\n",
      "\n",
      "See the caveats in the documentation: https://pandas.pydata.org/pandas-docs/stable/user_guide/indexing.html#returning-a-view-versus-a-copy\n",
      "  volat_unique.dropna(subset=['VOLAT'], inplace=True)\n",
      "C:\\Users\\13976\\AppData\\Local\\Temp\\ipykernel_29928\\1945059889.py:18: SettingWithCopyWarning: \n",
      "A value is trying to be set on a copy of a slice from a DataFrame.\n",
      "Try using .loc[row_indexer,col_indexer] = value instead\n",
      "\n",
      "See the caveats in the documentation: https://pandas.pydata.org/pandas-docs/stable/user_guide/indexing.html#returning-a-view-versus-a-copy\n",
      "  volat_unique['VOLAT'] = volat_unique['VOLAT'].clip(lower=lower_bound, upper=upper_bound)\n"
     ]
    }
   ],
   "source": [
    "# Drop NaN\n",
    "volat_unique.dropna(subset=['VOLAT'], inplace=True)\n",
    "\n",
    "# Calculate the number of rows shoule be replaced\n",
    "num_rows_to_replace = int(len(volat_unique) * 0.0025)\n",
    "\n",
    "# Ensure at least one row has been replaced\n",
    "if num_rows_to_replace < 1 and len(volat_unique) > 0:\n",
    "    num_rows_to_replace = 1\n",
    "\n",
    "# Sort and replace the extreme values\n",
    "if num_rows_to_replace > 0:\n",
    "    # Sort 'VOLAT'\n",
    "    volat_sorted = volat_unique['VOLAT'].sort_values()\n",
    "\n",
    "    lower_bound = volat_sorted.iloc[num_rows_to_replace - 1]\n",
    "    upper_bound = volat_sorted.iloc[-num_rows_to_replace]\n",
    "    volat_unique['VOLAT'] = volat_unique['VOLAT'].clip(lower=lower_bound, upper=upper_bound)"
   ]
  },
  {
   "cell_type": "markdown",
   "metadata": {},
   "source": [
    "### Calculate EPSGR"
   ]
  },
  {
   "cell_type": "code",
   "execution_count": 49,
   "metadata": {},
   "outputs": [],
   "source": [
    "# Load data\n",
    "EPS_data = pd.read_csv('./eps_marketLeverage.csv')\n",
    "\n",
    "# Filter out the gvkey contained in companies_with_emission_data\n",
    "EPS_data_filtered = EPS_data[EPS_data['gvkey'].isin(companies_with_emission_data)]\n",
    "\n",
    "# Create Return_variable_EPSGR DataFrame\n",
    "Return_variable_EPSGR = pd.DataFrame(EPS_data_filtered[['gvkey', 'fyear']])\n",
    "\n",
    "# Sort\n",
    "EPS_data_filtered = EPS_data_filtered.sort_values(by=['gvkey', 'fyear'])\n",
    "\n",
    "# Calculate previous EPS\n",
    "Return_variable_EPSGR['EPSGR'] = EPS_data_filtered.groupby('gvkey')['EPS'].pct_change()\n",
    "Return_variable_EPSGR['EPSGR'].replace(float('inf'), np.nan, inplace=True)\n",
    "Return_variable_EPSGR['fyear'] = EPS_data_filtered['fyear']"
   ]
  },
  {
   "cell_type": "code",
   "execution_count": 50,
   "metadata": {},
   "outputs": [],
   "source": [
    "Return_variable_EPSGR['EPSGR'] = Return_variable_EPSGR['EPSGR'].drop_duplicates()\n",
    "Return_variable_EPSGR['EPSGR'].replace([np.inf, -np.inf], np.nan, inplace=True)"
   ]
  },
  {
   "cell_type": "code",
   "execution_count": 51,
   "metadata": {},
   "outputs": [],
   "source": [
    "Return_variable_EPSGR['EPSGR'].dropna(inplace=True)\n",
    "\n",
    "# First, filter out the rows with non-null EPSGR values\n",
    "epsgr_non_null = Return_variable_EPSGR[Return_variable_EPSGR['EPSGR'].notna()]\n",
    "\n",
    "# Calculate 1.25% of the number of rows in the non-null data\n",
    "num_rows_to_replace_eps1 = int(len(epsgr_non_null) * 0.015)\n",
    "num_rows_to_replace_eps2 = int(len(epsgr_non_null) * 0.025)\n",
    "\n",
    "# Sort the non-null data\n",
    "epsgr_non_null_sorted = epsgr_non_null.sort_values(by='EPSGR', ascending=True)\n",
    "\n",
    "# Get the index of the EPSGR column\n",
    "epsgr_col_index = epsgr_non_null_sorted.columns.get_loc('EPSGR')\n",
    "\n",
    "# Remove the smallest 1.25% of the data\n",
    "epsgr_non_null_sorted.iloc[:num_rows_to_replace_eps2, epsgr_col_index] = np.nan\n",
    "\n",
    "# Remove the largest 1.25% of the data\n",
    "epsgr_non_null_sorted.iloc[-num_rows_to_replace_eps1:, epsgr_col_index] = np.nan\n",
    "\n",
    "# Re-merge into the original DataFrame\n",
    "Return_variable_EPSGR.loc[epsgr_non_null_sorted.index, 'EPSGR'] = epsgr_non_null_sorted['EPSGR']\n",
    "\n",
    "Return_variable_EPSGR['EPSGR'] = Return_variable_EPSGR['EPSGR'].drop_duplicates()"
   ]
  },
  {
   "cell_type": "markdown",
   "metadata": {},
   "source": [
    "## Merge all data to one dataframe"
   ]
  },
  {
   "cell_type": "markdown",
   "metadata": {},
   "source": [
    "### Merge part of return variable to the main dataframe"
   ]
  },
  {
   "cell_type": "code",
   "execution_count": 52,
   "metadata": {},
   "outputs": [],
   "source": [
    "Emission_table['gvkey'] = Emission_table['gvkey'].astype('float64')\n",
    "Emission_table['fyear'] = Emission_table['fyear'].astype('float64')"
   ]
  },
  {
   "cell_type": "code",
   "execution_count": 53,
   "metadata": {},
   "outputs": [],
   "source": [
    "Dataframe1 = pd.merge(Emission_table, Return_variable, on=['gvkey','fyear'], how='left')"
   ]
  },
  {
   "cell_type": "code",
   "execution_count": 54,
   "metadata": {},
   "outputs": [
    {
     "data": {
      "text/html": [
       "<div>\n",
       "<style scoped>\n",
       "    .dataframe tbody tr th:only-of-type {\n",
       "        vertical-align: middle;\n",
       "    }\n",
       "\n",
       "    .dataframe tbody tr th {\n",
       "        vertical-align: top;\n",
       "    }\n",
       "\n",
       "    .dataframe thead th {\n",
       "        text-align: right;\n",
       "    }\n",
       "</style>\n",
       "<table border=\"1\" class=\"dataframe\">\n",
       "  <thead>\n",
       "    <tr style=\"text-align: right;\">\n",
       "      <th></th>\n",
       "      <th>gvkey</th>\n",
       "      <th>fyear</th>\n",
       "      <th>log_scope_1</th>\n",
       "      <th>log_scope_2</th>\n",
       "      <th>Winsorised Growth Rate in Carbon Emissions Scope 1</th>\n",
       "      <th>Winsorised Growth Rate in Carbon Emissions Scope 2</th>\n",
       "      <th>Carbon Intensity Scope 1</th>\n",
       "      <th>Winsorised Carbon Intensity Scope 1</th>\n",
       "      <th>Carbon Intensity Scope 2</th>\n",
       "      <th>Winsorised Carbon Intensity Scope 2</th>\n",
       "      <th>...</th>\n",
       "      <th>B/M</th>\n",
       "      <th>Winsorised BM</th>\n",
       "      <th>Leverage</th>\n",
       "      <th>Winsorised Leverage</th>\n",
       "      <th>INVEST/A</th>\n",
       "      <th>Winsorised INVESTA</th>\n",
       "      <th>ROE</th>\n",
       "      <th>Winsorised ROE</th>\n",
       "      <th>LOGPPE</th>\n",
       "      <th>Winsorised SALESGR</th>\n",
       "    </tr>\n",
       "  </thead>\n",
       "  <tbody>\n",
       "    <tr>\n",
       "      <th>count</th>\n",
       "      <td>17787.000000</td>\n",
       "      <td>17787.000000</td>\n",
       "      <td>17780.000000</td>\n",
       "      <td>17782.000000</td>\n",
       "      <td>15161.000000</td>\n",
       "      <td>15161.000000</td>\n",
       "      <td>17433.000000</td>\n",
       "      <td>17433.000000</td>\n",
       "      <td>17433.000000</td>\n",
       "      <td>17433.000000</td>\n",
       "      <td>...</td>\n",
       "      <td>16824.000000</td>\n",
       "      <td>16824.000000</td>\n",
       "      <td>17734.000000</td>\n",
       "      <td>17734.000000</td>\n",
       "      <td>17739.000000</td>\n",
       "      <td>17739.000000</td>\n",
       "      <td>17771.000000</td>\n",
       "      <td>17771.000000</td>\n",
       "      <td>14694.000000</td>\n",
       "      <td>15134.000000</td>\n",
       "    </tr>\n",
       "    <tr>\n",
       "      <th>mean</th>\n",
       "      <td>53230.561590</td>\n",
       "      <td>2016.526339</td>\n",
       "      <td>10.010713</td>\n",
       "      <td>10.236393</td>\n",
       "      <td>0.067578</td>\n",
       "      <td>0.086422</td>\n",
       "      <td>1.613004</td>\n",
       "      <td>1.385161</td>\n",
       "      <td>0.361470</td>\n",
       "      <td>0.314770</td>\n",
       "      <td>...</td>\n",
       "      <td>0.537935</td>\n",
       "      <td>0.530187</td>\n",
       "      <td>0.276610</td>\n",
       "      <td>0.272734</td>\n",
       "      <td>0.033476</td>\n",
       "      <td>0.032673</td>\n",
       "      <td>11.357607</td>\n",
       "      <td>6.729490</td>\n",
       "      <td>6.926969</td>\n",
       "      <td>0.104371</td>\n",
       "    </tr>\n",
       "    <tr>\n",
       "      <th>std</th>\n",
       "      <td>63334.284067</td>\n",
       "      <td>2.860865</td>\n",
       "      <td>3.021521</td>\n",
       "      <td>2.547694</td>\n",
       "      <td>0.375825</td>\n",
       "      <td>0.404787</td>\n",
       "      <td>7.029082</td>\n",
       "      <td>5.023132</td>\n",
       "      <td>1.624064</td>\n",
       "      <td>0.425497</td>\n",
       "      <td>...</td>\n",
       "      <td>0.726927</td>\n",
       "      <td>0.442590</td>\n",
       "      <td>0.232138</td>\n",
       "      <td>0.210634</td>\n",
       "      <td>0.044757</td>\n",
       "      <td>0.039990</td>\n",
       "      <td>500.089011</td>\n",
       "      <td>44.795713</td>\n",
       "      <td>2.280663</td>\n",
       "      <td>1.933412</td>\n",
       "    </tr>\n",
       "    <tr>\n",
       "      <th>min</th>\n",
       "      <td>1004.000000</td>\n",
       "      <td>2010.000000</td>\n",
       "      <td>-1.645065</td>\n",
       "      <td>-0.079043</td>\n",
       "      <td>-0.766253</td>\n",
       "      <td>-0.676186</td>\n",
       "      <td>0.000000</td>\n",
       "      <td>0.002459</td>\n",
       "      <td>0.000000</td>\n",
       "      <td>0.006984</td>\n",
       "      <td>...</td>\n",
       "      <td>-24.427128</td>\n",
       "      <td>-0.218942</td>\n",
       "      <td>0.000000</td>\n",
       "      <td>0.000000</td>\n",
       "      <td>-0.185768</td>\n",
       "      <td>0.000000</td>\n",
       "      <td>-10404.347826</td>\n",
       "      <td>-240.205070</td>\n",
       "      <td>-2.465104</td>\n",
       "      <td>-0.749541</td>\n",
       "    </tr>\n",
       "    <tr>\n",
       "      <th>25%</th>\n",
       "      <td>8402.000000</td>\n",
       "      <td>2015.000000</td>\n",
       "      <td>7.974190</td>\n",
       "      <td>8.708996</td>\n",
       "      <td>-0.065107</td>\n",
       "      <td>-0.067892</td>\n",
       "      <td>0.035993</td>\n",
       "      <td>0.035993</td>\n",
       "      <td>0.075461</td>\n",
       "      <td>0.075461</td>\n",
       "      <td>...</td>\n",
       "      <td>0.229754</td>\n",
       "      <td>0.229754</td>\n",
       "      <td>0.098418</td>\n",
       "      <td>0.098418</td>\n",
       "      <td>0.005145</td>\n",
       "      <td>0.005145</td>\n",
       "      <td>2.839012</td>\n",
       "      <td>2.839012</td>\n",
       "      <td>5.453996</td>\n",
       "      <td>-0.012607</td>\n",
       "    </tr>\n",
       "    <tr>\n",
       "      <th>50%</th>\n",
       "      <td>22119.000000</td>\n",
       "      <td>2017.000000</td>\n",
       "      <td>9.975233</td>\n",
       "      <td>10.400579</td>\n",
       "      <td>0.011421</td>\n",
       "      <td>0.009264</td>\n",
       "      <td>0.130036</td>\n",
       "      <td>0.130036</td>\n",
       "      <td>0.170307</td>\n",
       "      <td>0.170307</td>\n",
       "      <td>...</td>\n",
       "      <td>0.420942</td>\n",
       "      <td>0.420942</td>\n",
       "      <td>0.247761</td>\n",
       "      <td>0.247761</td>\n",
       "      <td>0.019483</td>\n",
       "      <td>0.019483</td>\n",
       "      <td>9.561149</td>\n",
       "      <td>9.561149</td>\n",
       "      <td>6.995043</td>\n",
       "      <td>0.043912</td>\n",
       "    </tr>\n",
       "    <tr>\n",
       "      <th>75%</th>\n",
       "      <td>66210.000000</td>\n",
       "      <td>2019.000000</td>\n",
       "      <td>12.028111</td>\n",
       "      <td>12.111406</td>\n",
       "      <td>0.123437</td>\n",
       "      <td>0.147985</td>\n",
       "      <td>0.294071</td>\n",
       "      <td>0.294071</td>\n",
       "      <td>0.399564</td>\n",
       "      <td>0.399564</td>\n",
       "      <td>...</td>\n",
       "      <td>0.734708</td>\n",
       "      <td>0.734708</td>\n",
       "      <td>0.406605</td>\n",
       "      <td>0.406605</td>\n",
       "      <td>0.043475</td>\n",
       "      <td>0.043475</td>\n",
       "      <td>17.581344</td>\n",
       "      <td>17.581344</td>\n",
       "      <td>8.558613</td>\n",
       "      <td>0.128715</td>\n",
       "    </tr>\n",
       "    <tr>\n",
       "      <th>max</th>\n",
       "      <td>328795.000000</td>\n",
       "      <td>2020.000000</td>\n",
       "      <td>18.804073</td>\n",
       "      <td>16.920606</td>\n",
       "      <td>2.102875</td>\n",
       "      <td>2.270040</td>\n",
       "      <td>196.809468</td>\n",
       "      <td>34.648542</td>\n",
       "      <td>141.591432</td>\n",
       "      <td>2.519237</td>\n",
       "      <td>...</td>\n",
       "      <td>30.468414</td>\n",
       "      <td>2.344154</td>\n",
       "      <td>4.942947</td>\n",
       "      <td>0.904107</td>\n",
       "      <td>0.605523</td>\n",
       "      <td>0.203190</td>\n",
       "      <td>38870.000000</td>\n",
       "      <td>186.515669</td>\n",
       "      <td>13.144907</td>\n",
       "      <td>225.869455</td>\n",
       "    </tr>\n",
       "  </tbody>\n",
       "</table>\n",
       "<p>8 rows × 21 columns</p>\n",
       "</div>"
      ],
      "text/plain": [
       "               gvkey         fyear   log_scope_1   log_scope_2  \\\n",
       "count   17787.000000  17787.000000  17780.000000  17782.000000   \n",
       "mean    53230.561590   2016.526339     10.010713     10.236393   \n",
       "std     63334.284067      2.860865      3.021521      2.547694   \n",
       "min      1004.000000   2010.000000     -1.645065     -0.079043   \n",
       "25%      8402.000000   2015.000000      7.974190      8.708996   \n",
       "50%     22119.000000   2017.000000      9.975233     10.400579   \n",
       "75%     66210.000000   2019.000000     12.028111     12.111406   \n",
       "max    328795.000000   2020.000000     18.804073     16.920606   \n",
       "\n",
       "       Winsorised Growth Rate in Carbon Emissions Scope 1  \\\n",
       "count                                       15161.000000    \n",
       "mean                                            0.067578    \n",
       "std                                             0.375825    \n",
       "min                                            -0.766253    \n",
       "25%                                            -0.065107    \n",
       "50%                                             0.011421    \n",
       "75%                                             0.123437    \n",
       "max                                             2.102875    \n",
       "\n",
       "       Winsorised Growth Rate in Carbon Emissions Scope 2  \\\n",
       "count                                       15161.000000    \n",
       "mean                                            0.086422    \n",
       "std                                             0.404787    \n",
       "min                                            -0.676186    \n",
       "25%                                            -0.067892    \n",
       "50%                                             0.009264    \n",
       "75%                                             0.147985    \n",
       "max                                             2.270040    \n",
       "\n",
       "       Carbon Intensity Scope 1  Winsorised Carbon Intensity Scope 1  \\\n",
       "count              17433.000000                         17433.000000   \n",
       "mean                   1.613004                             1.385161   \n",
       "std                    7.029082                             5.023132   \n",
       "min                    0.000000                             0.002459   \n",
       "25%                    0.035993                             0.035993   \n",
       "50%                    0.130036                             0.130036   \n",
       "75%                    0.294071                             0.294071   \n",
       "max                  196.809468                            34.648542   \n",
       "\n",
       "       Carbon Intensity Scope 2  Winsorised Carbon Intensity Scope 2  ...  \\\n",
       "count              17433.000000                         17433.000000  ...   \n",
       "mean                   0.361470                             0.314770  ...   \n",
       "std                    1.624064                             0.425497  ...   \n",
       "min                    0.000000                             0.006984  ...   \n",
       "25%                    0.075461                             0.075461  ...   \n",
       "50%                    0.170307                             0.170307  ...   \n",
       "75%                    0.399564                             0.399564  ...   \n",
       "max                  141.591432                             2.519237  ...   \n",
       "\n",
       "                B/M  Winsorised BM      Leverage  Winsorised Leverage  \\\n",
       "count  16824.000000   16824.000000  17734.000000         17734.000000   \n",
       "mean       0.537935       0.530187      0.276610             0.272734   \n",
       "std        0.726927       0.442590      0.232138             0.210634   \n",
       "min      -24.427128      -0.218942      0.000000             0.000000   \n",
       "25%        0.229754       0.229754      0.098418             0.098418   \n",
       "50%        0.420942       0.420942      0.247761             0.247761   \n",
       "75%        0.734708       0.734708      0.406605             0.406605   \n",
       "max       30.468414       2.344154      4.942947             0.904107   \n",
       "\n",
       "           INVEST/A  Winsorised INVESTA           ROE  Winsorised ROE  \\\n",
       "count  17739.000000        17739.000000  17771.000000    17771.000000   \n",
       "mean       0.033476            0.032673     11.357607        6.729490   \n",
       "std        0.044757            0.039990    500.089011       44.795713   \n",
       "min       -0.185768            0.000000 -10404.347826     -240.205070   \n",
       "25%        0.005145            0.005145      2.839012        2.839012   \n",
       "50%        0.019483            0.019483      9.561149        9.561149   \n",
       "75%        0.043475            0.043475     17.581344       17.581344   \n",
       "max        0.605523            0.203190  38870.000000      186.515669   \n",
       "\n",
       "             LOGPPE  Winsorised SALESGR  \n",
       "count  14694.000000        15134.000000  \n",
       "mean       6.926969            0.104371  \n",
       "std        2.280663            1.933412  \n",
       "min       -2.465104           -0.749541  \n",
       "25%        5.453996           -0.012607  \n",
       "50%        6.995043            0.043912  \n",
       "75%        8.558613            0.128715  \n",
       "max       13.144907          225.869455  \n",
       "\n",
       "[8 rows x 21 columns]"
      ]
     },
     "execution_count": 54,
     "metadata": {},
     "output_type": "execute_result"
    }
   ],
   "source": [
    "Dataframe1.describe()"
   ]
  },
  {
   "cell_type": "markdown",
   "metadata": {},
   "source": [
    "### Let RET to be the main dataframe"
   ]
  },
  {
   "cell_type": "code",
   "execution_count": 55,
   "metadata": {},
   "outputs": [],
   "source": [
    "Return_variable_RET['fyear'] = Return_variable_RET['eow'].dt.year\n",
    "Return_variable_RET['month'] = Return_variable_RET['eow'].dt.month"
   ]
  },
  {
   "cell_type": "code",
   "execution_count": 56,
   "metadata": {},
   "outputs": [],
   "source": [
    "Main_dataframe1 = pd.merge(Return_variable_RET, Dataframe1, on=['gvkey','fyear'], how='left')"
   ]
  },
  {
   "cell_type": "markdown",
   "metadata": {},
   "source": [
    "### Merge MOM to the main dataframe"
   ]
  },
  {
   "cell_type": "code",
   "execution_count": 57,
   "metadata": {},
   "outputs": [],
   "source": [
    "Main_dataframe2 = pd.merge(Main_dataframe1, Return_variable_MOM, on=['gvkey','fyear','month'], how='left')"
   ]
  },
  {
   "cell_type": "markdown",
   "metadata": {},
   "source": [
    "### Merge beta to the main dataframe"
   ]
  },
  {
   "cell_type": "code",
   "execution_count": 58,
   "metadata": {},
   "outputs": [],
   "source": [
    "betas['eow'] = pd.to_datetime(betas['eow'])\n",
    "betas['fyear'] = betas['eow'].dt.year\n",
    "betas['month'] = betas['eow'].dt.month"
   ]
  },
  {
   "cell_type": "code",
   "execution_count": 59,
   "metadata": {},
   "outputs": [],
   "source": [
    "monthly_beta = betas.groupby(['gvkey','fyear','month'])['beta'].mean().reset_index()"
   ]
  },
  {
   "cell_type": "code",
   "execution_count": 60,
   "metadata": {},
   "outputs": [],
   "source": [
    "Main_dataframe3 = pd.merge(Main_dataframe2, monthly_beta, on=['gvkey','fyear','month'], how='left')"
   ]
  },
  {
   "cell_type": "markdown",
   "metadata": {},
   "source": [
    "### Merge volatility to the main dataframe"
   ]
  },
  {
   "cell_type": "code",
   "execution_count": 61,
   "metadata": {},
   "outputs": [
    {
     "name": "stderr",
     "output_type": "stream",
     "text": [
      "C:\\Users\\13976\\AppData\\Local\\Temp\\ipykernel_29928\\3429661774.py:1: SettingWithCopyWarning: \n",
      "A value is trying to be set on a copy of a slice from a DataFrame.\n",
      "Try using .loc[row_indexer,col_indexer] = value instead\n",
      "\n",
      "See the caveats in the documentation: https://pandas.pydata.org/pandas-docs/stable/user_guide/indexing.html#returning-a-view-versus-a-copy\n",
      "  volat_unique['eow'] = pd.to_datetime(volat_unique['eow'])\n",
      "C:\\Users\\13976\\AppData\\Local\\Temp\\ipykernel_29928\\3429661774.py:2: SettingWithCopyWarning: \n",
      "A value is trying to be set on a copy of a slice from a DataFrame.\n",
      "Try using .loc[row_indexer,col_indexer] = value instead\n",
      "\n",
      "See the caveats in the documentation: https://pandas.pydata.org/pandas-docs/stable/user_guide/indexing.html#returning-a-view-versus-a-copy\n",
      "  volat_unique['fyear'] = volat_unique['eow'].dt.year\n",
      "C:\\Users\\13976\\AppData\\Local\\Temp\\ipykernel_29928\\3429661774.py:3: SettingWithCopyWarning: \n",
      "A value is trying to be set on a copy of a slice from a DataFrame.\n",
      "Try using .loc[row_indexer,col_indexer] = value instead\n",
      "\n",
      "See the caveats in the documentation: https://pandas.pydata.org/pandas-docs/stable/user_guide/indexing.html#returning-a-view-versus-a-copy\n",
      "  volat_unique['month'] = volat_unique['eow'].dt.month\n"
     ]
    }
   ],
   "source": [
    "volat_unique['eow'] = pd.to_datetime(volat_unique['eow'])\n",
    "volat_unique['fyear'] = volat_unique['eow'].dt.year\n",
    "volat_unique['month'] = volat_unique['eow'].dt.month\n",
    "# volat_month = volat_unique.groupby(['gvkey','fyear','month'])['VOLAT'].mean()"
   ]
  },
  {
   "cell_type": "code",
   "execution_count": 62,
   "metadata": {},
   "outputs": [],
   "source": [
    "Main_dataframe4 = pd.merge(Main_dataframe3, volat_unique, on=['gvkey','fyear','month'], how='left')"
   ]
  },
  {
   "cell_type": "markdown",
   "metadata": {},
   "source": [
    "### Merge EPSGR to the main dataframe"
   ]
  },
  {
   "cell_type": "code",
   "execution_count": 63,
   "metadata": {},
   "outputs": [],
   "source": [
    "Main_dataframe5 = pd.merge(Main_dataframe4, Return_variable_EPSGR, on=['gvkey','fyear'], how='left')"
   ]
  },
  {
   "cell_type": "markdown",
   "metadata": {},
   "source": [
    "## Get industry from data_raw"
   ]
  },
  {
   "cell_type": "code",
   "execution_count": 64,
   "metadata": {},
   "outputs": [],
   "source": [
    "data_raw['gvkey'] = data_raw['gvkey'].astype(str)\n",
    "data_raw['fyear'] = data_raw['fyear'].astype(int).astype(str)"
   ]
  },
  {
   "cell_type": "code",
   "execution_count": 65,
   "metadata": {},
   "outputs": [],
   "source": [
    "Main_dataframe5['gvkey'] = Main_dataframe5['gvkey'].astype(int).astype(str)\n",
    "Main_dataframe5['fyear'] = Main_dataframe5['fyear'].astype(int).astype(str)"
   ]
  },
  {
   "cell_type": "code",
   "execution_count": 66,
   "metadata": {},
   "outputs": [
    {
     "name": "stdout",
     "output_type": "stream",
     "text": [
      "missiong gvkey: set()\n"
     ]
    }
   ],
   "source": [
    "# Check if gvkey in Dataframe3 exists in data_raw\n",
    "data_raw_gvkeys = set(data_raw['gvkey'])\n",
    "df3_gvkeys = set(Main_dataframe5['gvkey'])\n",
    "\n",
    "missing_gvkeys = df3_gvkeys - data_raw_gvkeys\n",
    "print(f\"missiong gvkey: {missing_gvkeys}\")"
   ]
  },
  {
   "cell_type": "code",
   "execution_count": 67,
   "metadata": {},
   "outputs": [],
   "source": [
    "# If no missing gvkeys, merge the dataframe\n",
    "if len(missing_gvkeys) == 0:\n",
    "    merged_df = pd.merge(Main_dataframe5, data_raw[['gvkey','fyear','GICS_level_1']], on=['gvkey', 'fyear'], how='left')\n",
    "else:\n",
    "    print(\"wrong\")"
   ]
  },
  {
   "cell_type": "code",
   "execution_count": 68,
   "metadata": {},
   "outputs": [],
   "source": [
    "# Check duplicated values\n",
    "duplicates = merged_df['gvkey'].duplicated()\n",
    "has_duplicates = duplicates.any()"
   ]
  },
  {
   "cell_type": "code",
   "execution_count": 69,
   "metadata": {},
   "outputs": [],
   "source": [
    "merged_df = merged_df.drop(columns=['RET', 'Carbon Intensity Scope 1', 'Carbon Intensity Scope 2', 'B/M', 'Leverage', 'INVEST/A', 'ROE', 'MOM', 'Winsorised MOM'])"
   ]
  },
  {
   "cell_type": "code",
   "execution_count": 70,
   "metadata": {},
   "outputs": [
    {
     "data": {
      "text/html": [
       "<div>\n",
       "<style scoped>\n",
       "    .dataframe tbody tr th:only-of-type {\n",
       "        vertical-align: middle;\n",
       "    }\n",
       "\n",
       "    .dataframe tbody tr th {\n",
       "        vertical-align: top;\n",
       "    }\n",
       "\n",
       "    .dataframe thead th {\n",
       "        text-align: right;\n",
       "    }\n",
       "</style>\n",
       "<table border=\"1\" class=\"dataframe\">\n",
       "  <thead>\n",
       "    <tr style=\"text-align: right;\">\n",
       "      <th></th>\n",
       "      <th>month</th>\n",
       "      <th>RET%</th>\n",
       "      <th>log_scope_1</th>\n",
       "      <th>log_scope_2</th>\n",
       "      <th>Winsorised Growth Rate in Carbon Emissions Scope 1</th>\n",
       "      <th>Winsorised Growth Rate in Carbon Emissions Scope 2</th>\n",
       "      <th>Winsorised Carbon Intensity Scope 1</th>\n",
       "      <th>Winsorised Carbon Intensity Scope 2</th>\n",
       "      <th>LOGSIZE</th>\n",
       "      <th>Winsorised BM</th>\n",
       "      <th>Winsorised Leverage</th>\n",
       "      <th>Winsorised INVESTA</th>\n",
       "      <th>Winsorised ROE</th>\n",
       "      <th>LOGPPE</th>\n",
       "      <th>Winsorised SALESGR</th>\n",
       "      <th>MOM_duplicate</th>\n",
       "      <th>beta</th>\n",
       "      <th>VOLAT</th>\n",
       "      <th>EPSGR</th>\n",
       "    </tr>\n",
       "  </thead>\n",
       "  <tbody>\n",
       "    <tr>\n",
       "      <th>count</th>\n",
       "      <td>385419.000000</td>\n",
       "      <td>385419.000000</td>\n",
       "      <td>231039.000000</td>\n",
       "      <td>231064.000000</td>\n",
       "      <td>203232.000000</td>\n",
       "      <td>203232.000000</td>\n",
       "      <td>226999.000000</td>\n",
       "      <td>226999.000000</td>\n",
       "      <td>218482.000000</td>\n",
       "      <td>218208.000000</td>\n",
       "      <td>230520.000000</td>\n",
       "      <td>230590.000000</td>\n",
       "      <td>230932.000000</td>\n",
       "      <td>185867.000000</td>\n",
       "      <td>202652.000000</td>\n",
       "      <td>337880.000000</td>\n",
       "      <td>362377.000000</td>\n",
       "      <td>48965.000000</td>\n",
       "      <td>230943.000000</td>\n",
       "    </tr>\n",
       "    <tr>\n",
       "      <th>mean</th>\n",
       "      <td>6.554573</td>\n",
       "      <td>0.982939</td>\n",
       "      <td>10.196407</td>\n",
       "      <td>10.469592</td>\n",
       "      <td>0.063291</td>\n",
       "      <td>0.083948</td>\n",
       "      <td>1.263314</td>\n",
       "      <td>0.317250</td>\n",
       "      <td>8.428594</td>\n",
       "      <td>0.546065</td>\n",
       "      <td>0.270907</td>\n",
       "      <td>0.029647</td>\n",
       "      <td>7.711958</td>\n",
       "      <td>7.268571</td>\n",
       "      <td>0.090334</td>\n",
       "      <td>0.135931</td>\n",
       "      <td>1.105152</td>\n",
       "      <td>0.114619</td>\n",
       "      <td>0.025154</td>\n",
       "    </tr>\n",
       "    <tr>\n",
       "      <th>std</th>\n",
       "      <td>3.438300</td>\n",
       "      <td>11.314887</td>\n",
       "      <td>3.124783</td>\n",
       "      <td>2.718884</td>\n",
       "      <td>0.370854</td>\n",
       "      <td>0.413537</td>\n",
       "      <td>4.693970</td>\n",
       "      <td>0.423105</td>\n",
       "      <td>1.990615</td>\n",
       "      <td>0.434432</td>\n",
       "      <td>0.202770</td>\n",
       "      <td>0.036277</td>\n",
       "      <td>41.596463</td>\n",
       "      <td>2.336983</td>\n",
       "      <td>1.797808</td>\n",
       "      <td>0.478318</td>\n",
       "      <td>0.625873</td>\n",
       "      <td>0.157452</td>\n",
       "      <td>1.784203</td>\n",
       "    </tr>\n",
       "    <tr>\n",
       "      <th>min</th>\n",
       "      <td>1.000000</td>\n",
       "      <td>-46.052632</td>\n",
       "      <td>-1.645065</td>\n",
       "      <td>-0.079043</td>\n",
       "      <td>-0.766253</td>\n",
       "      <td>-0.676186</td>\n",
       "      <td>0.002459</td>\n",
       "      <td>0.006984</td>\n",
       "      <td>0.364087</td>\n",
       "      <td>-0.218942</td>\n",
       "      <td>0.000000</td>\n",
       "      <td>0.000000</td>\n",
       "      <td>-240.205070</td>\n",
       "      <td>-2.465104</td>\n",
       "      <td>-0.749541</td>\n",
       "      <td>-0.888750</td>\n",
       "      <td>-0.171023</td>\n",
       "      <td>0.023020</td>\n",
       "      <td>-7.513988</td>\n",
       "    </tr>\n",
       "    <tr>\n",
       "      <th>25%</th>\n",
       "      <td>4.000000</td>\n",
       "      <td>-4.822899</td>\n",
       "      <td>8.036567</td>\n",
       "      <td>8.764322</td>\n",
       "      <td>-0.060508</td>\n",
       "      <td>-0.062660</td>\n",
       "      <td>0.039278</td>\n",
       "      <td>0.077062</td>\n",
       "      <td>6.931848</td>\n",
       "      <td>0.255590</td>\n",
       "      <td>0.104167</td>\n",
       "      <td>0.003787</td>\n",
       "      <td>3.655294</td>\n",
       "      <td>5.711029</td>\n",
       "      <td>-0.008758</td>\n",
       "      <td>-0.123426</td>\n",
       "      <td>0.695100</td>\n",
       "      <td>0.060661</td>\n",
       "      <td>-0.550468</td>\n",
       "    </tr>\n",
       "    <tr>\n",
       "      <th>50%</th>\n",
       "      <td>7.000000</td>\n",
       "      <td>0.772200</td>\n",
       "      <td>10.186898</td>\n",
       "      <td>10.688325</td>\n",
       "      <td>0.000253</td>\n",
       "      <td>0.000000</td>\n",
       "      <td>0.130756</td>\n",
       "      <td>0.175473</td>\n",
       "      <td>8.315117</td>\n",
       "      <td>0.429435</td>\n",
       "      <td>0.249756</td>\n",
       "      <td>0.018633</td>\n",
       "      <td>9.838676</td>\n",
       "      <td>7.356216</td>\n",
       "      <td>0.033179</td>\n",
       "      <td>0.074738</td>\n",
       "      <td>1.055753</td>\n",
       "      <td>0.085914</td>\n",
       "      <td>-0.015109</td>\n",
       "    </tr>\n",
       "    <tr>\n",
       "      <th>75%</th>\n",
       "      <td>10.000000</td>\n",
       "      <td>6.319703</td>\n",
       "      <td>12.666913</td>\n",
       "      <td>12.793022</td>\n",
       "      <td>0.106248</td>\n",
       "      <td>0.132487</td>\n",
       "      <td>0.295027</td>\n",
       "      <td>0.401121</td>\n",
       "      <td>10.036651</td>\n",
       "      <td>0.762309</td>\n",
       "      <td>0.395625</td>\n",
       "      <td>0.039741</td>\n",
       "      <td>18.272460</td>\n",
       "      <td>9.078945</td>\n",
       "      <td>0.114588</td>\n",
       "      <td>0.298988</td>\n",
       "      <td>1.444517</td>\n",
       "      <td>0.126845</td>\n",
       "      <td>0.423139</td>\n",
       "    </tr>\n",
       "    <tr>\n",
       "      <th>max</th>\n",
       "      <td>12.000000</td>\n",
       "      <td>69.826889</td>\n",
       "      <td>18.804073</td>\n",
       "      <td>16.920606</td>\n",
       "      <td>2.102875</td>\n",
       "      <td>2.270040</td>\n",
       "      <td>34.648542</td>\n",
       "      <td>2.519237</td>\n",
       "      <td>14.491552</td>\n",
       "      <td>2.344154</td>\n",
       "      <td>0.904107</td>\n",
       "      <td>0.203190</td>\n",
       "      <td>186.515669</td>\n",
       "      <td>13.144907</td>\n",
       "      <td>225.869455</td>\n",
       "      <td>4.711340</td>\n",
       "      <td>2.832603</td>\n",
       "      <td>2.681848</td>\n",
       "      <td>12.620800</td>\n",
       "    </tr>\n",
       "  </tbody>\n",
       "</table>\n",
       "</div>"
      ],
      "text/plain": [
       "               month           RET%    log_scope_1    log_scope_2  \\\n",
       "count  385419.000000  385419.000000  231039.000000  231064.000000   \n",
       "mean        6.554573       0.982939      10.196407      10.469592   \n",
       "std         3.438300      11.314887       3.124783       2.718884   \n",
       "min         1.000000     -46.052632      -1.645065      -0.079043   \n",
       "25%         4.000000      -4.822899       8.036567       8.764322   \n",
       "50%         7.000000       0.772200      10.186898      10.688325   \n",
       "75%        10.000000       6.319703      12.666913      12.793022   \n",
       "max        12.000000      69.826889      18.804073      16.920606   \n",
       "\n",
       "       Winsorised Growth Rate in Carbon Emissions Scope 1  \\\n",
       "count                                      203232.000000    \n",
       "mean                                            0.063291    \n",
       "std                                             0.370854    \n",
       "min                                            -0.766253    \n",
       "25%                                            -0.060508    \n",
       "50%                                             0.000253    \n",
       "75%                                             0.106248    \n",
       "max                                             2.102875    \n",
       "\n",
       "       Winsorised Growth Rate in Carbon Emissions Scope 2  \\\n",
       "count                                      203232.000000    \n",
       "mean                                            0.083948    \n",
       "std                                             0.413537    \n",
       "min                                            -0.676186    \n",
       "25%                                            -0.062660    \n",
       "50%                                             0.000000    \n",
       "75%                                             0.132487    \n",
       "max                                             2.270040    \n",
       "\n",
       "       Winsorised Carbon Intensity Scope 1  \\\n",
       "count                        226999.000000   \n",
       "mean                              1.263314   \n",
       "std                               4.693970   \n",
       "min                               0.002459   \n",
       "25%                               0.039278   \n",
       "50%                               0.130756   \n",
       "75%                               0.295027   \n",
       "max                              34.648542   \n",
       "\n",
       "       Winsorised Carbon Intensity Scope 2        LOGSIZE  Winsorised BM  \\\n",
       "count                        226999.000000  218482.000000  218208.000000   \n",
       "mean                              0.317250       8.428594       0.546065   \n",
       "std                               0.423105       1.990615       0.434432   \n",
       "min                               0.006984       0.364087      -0.218942   \n",
       "25%                               0.077062       6.931848       0.255590   \n",
       "50%                               0.175473       8.315117       0.429435   \n",
       "75%                               0.401121      10.036651       0.762309   \n",
       "max                               2.519237      14.491552       2.344154   \n",
       "\n",
       "       Winsorised Leverage  Winsorised INVESTA  Winsorised ROE         LOGPPE  \\\n",
       "count        230520.000000       230590.000000   230932.000000  185867.000000   \n",
       "mean              0.270907            0.029647        7.711958       7.268571   \n",
       "std               0.202770            0.036277       41.596463       2.336983   \n",
       "min               0.000000            0.000000     -240.205070      -2.465104   \n",
       "25%               0.104167            0.003787        3.655294       5.711029   \n",
       "50%               0.249756            0.018633        9.838676       7.356216   \n",
       "75%               0.395625            0.039741       18.272460       9.078945   \n",
       "max               0.904107            0.203190      186.515669      13.144907   \n",
       "\n",
       "       Winsorised SALESGR  MOM_duplicate           beta         VOLAT  \\\n",
       "count       202652.000000  337880.000000  362377.000000  48965.000000   \n",
       "mean             0.090334       0.135931       1.105152      0.114619   \n",
       "std              1.797808       0.478318       0.625873      0.157452   \n",
       "min             -0.749541      -0.888750      -0.171023      0.023020   \n",
       "25%             -0.008758      -0.123426       0.695100      0.060661   \n",
       "50%              0.033179       0.074738       1.055753      0.085914   \n",
       "75%              0.114588       0.298988       1.444517      0.126845   \n",
       "max            225.869455       4.711340       2.832603      2.681848   \n",
       "\n",
       "               EPSGR  \n",
       "count  230943.000000  \n",
       "mean        0.025154  \n",
       "std         1.784203  \n",
       "min        -7.513988  \n",
       "25%        -0.550468  \n",
       "50%        -0.015109  \n",
       "75%         0.423139  \n",
       "max        12.620800  "
      ]
     },
     "execution_count": 70,
     "metadata": {},
     "output_type": "execute_result"
    }
   ],
   "source": [
    "merged_df.describe()"
   ]
  },
  {
   "cell_type": "code",
   "execution_count": null,
   "metadata": {},
   "outputs": [],
   "source": [
    "merged_df.to_csv('Regression_month_new.csv', index=True)"
   ]
  },
  {
   "cell_type": "markdown",
   "metadata": {},
   "source": []
  }
 ],
 "metadata": {
  "kernelspec": {
   "display_name": "base",
   "language": "python",
   "name": "python3"
  },
  "language_info": {
   "codemirror_mode": {
    "name": "ipython",
    "version": 3
   },
   "file_extension": ".py",
   "mimetype": "text/x-python",
   "name": "python",
   "nbconvert_exporter": "python",
   "pygments_lexer": "ipython3",
   "version": "3.9.16"
  }
 },
 "nbformat": 4,
 "nbformat_minor": 2
}
